{
 "cells": [
  {
   "cell_type": "markdown",
   "metadata": {},
   "source": [
    "program of rollercoaster eligibility"
   ]
  },
  {
   "cell_type": "code",
   "execution_count": 1,
   "metadata": {},
   "outputs": [
    {
     "name": "stdout",
     "output_type": "stream",
     "text": [
      "welcome to the rollercoaster\n",
      "What is your height in cm?\n",
      "456\n"
     ]
    }
   ],
   "source": [
    "print(\"welcome to the rollercoaster\")\n",
    "height=print(\"What is your height in cm?\")\n",
    "print(input(height))\n",
    "if height>=120:\n",
    "   print(\"You can ride rollercoaster\")\n",
    "else:\n",
    "    print(\"Sorry,you have to grow taller before you can ride\")\n"
   ]
  },
  {
   "cell_type": "markdown",
   "metadata": {},
   "source": [
    "To check weather the number is even/odd"
   ]
  },
  {
   "cell_type": "code",
   "execution_count": 6,
   "metadata": {},
   "outputs": [
    {
     "name": "stdout",
     "output_type": "stream",
     "text": [
      "enter any number\n",
      "number is odd\n"
     ]
    }
   ],
   "source": [
    "print(\"enter any number\")\n",
    "num=int(input(\"enter any number\"))\n",
    "if num%2==0:\n",
    "    print(\"number is even\")\n",
    "else:\n",
    "    print(\"number is odd\")"
   ]
  },
  {
   "cell_type": "code",
   "execution_count": 9,
   "metadata": {},
   "outputs": [
    {
     "name": "stdout",
     "output_type": "stream",
     "text": [
      "Welcome to the rollercoaster\n",
      "You can ride the rollercoaster\n",
      "Please pay $7\n"
     ]
    }
   ],
   "source": [
    "print(\"Welcome to the rollercoaster\")\n",
    "height = int(input(\"What is your height in cm? \"))\n",
    "\n",
    "if height > 120:\n",
    "    print(\"You can ride the rollercoaster\")\n",
    "    age = int(input(\"What is your age? \"))\n",
    "    if age < 12:\n",
    "        print(\"Please pay $5\")\n",
    "    elif age <= 18:\n",
    "        print(\"Please pay $7\")\n",
    "    else:\n",
    "        print(\"Please pay $12\")\n",
    "else:\n",
    "    print(\"Sorry, you have to grow taller before you can ride\")\n"
   ]
  },
  {
   "cell_type": "markdown",
   "metadata": {},
   "source": [
    "Checking BMI"
   ]
  },
  {
   "cell_type": "code",
   "execution_count": 11,
   "metadata": {},
   "outputs": [
    {
     "name": "stdout",
     "output_type": "stream",
     "text": [
      "your BMI is 2.126200274348422,you are underweight\n"
     ]
    }
   ],
   "source": [
    "weight=int(input())\n",
    "height=float(input())\n",
    "BMI=weight/(height*height)\n",
    "if BMI<18.5:\n",
    "    print(f\"your BMI is {BMI},you are underweight\")\n",
    "elif BMI<25:\n",
    "    print(f\"your BMI is {BMI},you have a normal weight\")\n",
    "elif BMI<30:\n",
    "    print(f\"your BMI is {BMI},you are slightly overweight\")\n",
    "elif BMI<35:\n",
    "    print(f\"your BMI is {BMI},you are obese\")\n",
    "else:\n",
    "    print(f\"your BI is {BMI},you are clinically obese\")\n",
    "    "
   ]
  },
  {
   "cell_type": "markdown",
   "metadata": {},
   "source": [
    "To check leap year or not"
   ]
  },
  {
   "cell_type": "code",
   "execution_count": null,
   "metadata": {},
   "outputs": [],
   "source": [
    "year=int(input())\n",
    "if year%366==0:\n",
    "         print(\"leap year\")\n",
    "else:\n",
    "     print(\"not leap year\")"
   ]
  },
  {
   "cell_type": "code",
   "execution_count": 14,
   "metadata": {},
   "outputs": [
    {
     "name": "stdout",
     "output_type": "stream",
     "text": [
      "not leap year\n"
     ]
    }
   ],
   "source": [
    "year=int(input())\n",
    "if year%4==0:\n",
    "    if year%100==0:\n",
    "        if year%400==0:\n",
    "            print(\"leap year\")\n",
    "        else:\n",
    "            print(\"not leap year\")\n",
    "    else:\n",
    "         print(\"leap year\")\n",
    "else:\n",
    "     print(\"not leap year\")"
   ]
  },
  {
   "cell_type": "code",
   "execution_count": 19,
   "metadata": {},
   "outputs": [
    {
     "name": "stdout",
     "output_type": "stream",
     "text": [
      "welcome to the rollercoaster\n",
      "you can ride the rollercoaster\n",
      "Adult tickets are  $12\n",
      "your fianl bill is 15\n"
     ]
    }
   ],
   "source": [
    "bill=0\n",
    "print(\"welcome to the rollercoaster\")\n",
    "height=int(input(\"what is your height in cm?\"))\n",
    "\n",
    "if height>=120:\n",
    "    print(\"you can ride the rollercoaster\")\n",
    "    age=int(input(\"what is your age?\"))\n",
    "    if age<12:\n",
    "        bill=5\n",
    "        print(\"Child tickets are $5\")\n",
    "    elif age<=18:\n",
    "        bill=7\n",
    "        print(\"Youth tickets are $7\")\n",
    "    elif age>=45 and age<=55:\n",
    "        print(\"everything is going to be ok.have a free ride on us!\")\n",
    "    else:\n",
    "        bill=12\n",
    "        print(\"Adult tickets are  $12\")\n",
    "    wants_photo=input(\"Do you want a photo taken? Y or N\")   \n",
    "    if wants_photo==\"Y\":\n",
    "        bill=bill+3  #bill+=3  \n",
    "    print(f\"your fianl bill is {bill}\")  \n",
    "else:\n",
    "        print(\"sorry,you have to grow taller before you can ride\")\n",
    "    "
   ]
  },
  {
   "cell_type": "code",
   "execution_count": 23,
   "metadata": {},
   "outputs": [
    {
     "name": "stdout",
     "output_type": "stream",
     "text": [
      "Thankyou for choosing python pizza deliveries \n",
      "your final bill:$15\n"
     ]
    }
   ],
   "source": [
    "print(\"Thankyou for choosing python pizza deliveries \")\n",
    "size=input()\n",
    "add_pepperonion=input()\n",
    "extra_cheese=input()\n",
    "bill=0\n",
    "\n",
    "if size==\"S\":\n",
    "    bill+=15\n",
    "elif size==\"M\":\n",
    "    bill+=20\n",
    "else:\n",
    "    bill+=25\n",
    "    \n",
    "if add_pepperonion==\"Y\":\n",
    "      if size==\"S\":\n",
    "          bill+=2\n",
    "      else:\n",
    "          bill+=3\n",
    "            \n",
    "if extra_cheese==\"Y\":\n",
    "    bill+=1\n",
    "  \n",
    "print(f\"your final bill:${bill}\")\n"
   ]
  },
  {
   "cell_type": "markdown",
   "metadata": {},
   "source": [
    "you are going to write a programme that tests the compatibility between two people\n",
    "\n",
    "\n",
    "to workout the love score between two people\n",
    "\n",
    "\n",
    "\n",
    "1) take both people's names and check for the number of times the letters in the word TRUE occurs\n",
    "\n",
    "2) then check for the number of times the letters in the word LOVE occurs\n",
    "\n",
    "3) then combine these numbers to make 2 digit number\n",
    "\n",
    "\n",
    "for love score < 10 or > 90 the mssg should be:\n",
    "\n",
    "\n",
    "\"your score is *x* ,you go together like coke and ment for love scores btwn 40 and 50 , the message should be: \"your score is *y*,you are alright together.\n",
    "\n",
    "otherwise,the message will just be their score e.g:\n",
    "\n",
    "\n",
    "\"your score is *z*.\"\n",
    "\n",
    "\n",
    "e.g:\n",
    "name1=\"Angela yu\"\n",
    "name2=\"jack bauer\""
   ]
  },
  {
   "cell_type": "code",
   "execution_count": 22,
   "metadata": {},
   "outputs": [
    {
     "name": "stdout",
     "output_type": "stream",
     "text": [
      "The Love Calculator is calculating your score:\n",
      "your score is 42,you are alright together\n"
     ]
    }
   ],
   "source": [
    "print(\"The Love Calculator is calculating your score:\")\n",
    "\n",
    "name_1=input(\"enter the first name\")\n",
    "\n",
    "name_2=input(\"enter the second name\")\n",
    "\n",
    "combined_names=name_1+name_2\n",
    "\n",
    "lower_names=combined_names.lower()\n",
    "\n",
    "t=lower_names.count(\"t\")\n",
    "r=lower_names.count(\"r\")\n",
    "u=lower_names.count(\"u\")\n",
    "e=lower_names.count(\"e\")\n",
    "\n",
    "first_digit=t+r+u+e\n",
    "\n",
    "l=lower_names.count(\"l\")\n",
    "o=lower_names.count(\"o\")\n",
    "v=lower_names.count(\"v\")\n",
    "e=lower_names.count(\"e\")\n",
    "\n",
    "second_digit=l+o+v+e\n",
    "\n",
    "score=int(str(first_digit)+str(second_digit))\n",
    "\n",
    "if (score<10)or(score>90):\n",
    "   print(f\"your score is {score},you go together like mentos\")\n",
    "elif(score>=40) and (score<=50):\n",
    "    print(f\"your score is {score},you are alright together\")\n",
    "else:\n",
    "    print(f\"your score is {score}\")"
   ]
  },
  {
   "cell_type": "markdown",
   "metadata": {},
   "source": [
    "Project:3\n",
    "\n",
    "Tresure island\n",
    "\n",
    "output\n",
    "\n",
    "Welcome to Tressure Island\n",
    "\n",
    "your mission is to find the tressure\n",
    "\n",
    "you're at a cross road.where do you want to go?type\"left\" or \"right\"\n",
    "\n",
    "left\n",
    "\n",
    "you come to a lake.there is an island in the middle of the lake.type \"wait\" for a boat.type \"swim\" across\n",
    "\n",
    "wait\n",
    "\n",
    "you arrived at the island unharmed.there is a house with 3 doors.one red,one yellow and one blue.which colour do you choose?\n",
    "\n",
    "blue\n",
    "\n",
    "you enter a room of beasts.game over.\n",
    "\n"
   ]
  },
  {
   "cell_type": "code",
   "execution_count": 29,
   "metadata": {},
   "outputs": [
    {
     "name": "stdout",
     "output_type": "stream",
     "text": [
      "Welcome to Treasure Island\n",
      "Your Mission is to find the treasure\n",
      "You are attacked by an angry trout. Game over.\n"
     ]
    }
   ],
   "source": [
    "print(\"Welcome to Treasure Island\")\n",
    "print(\"Your Mission is to find the treasure\")\n",
    "\n",
    "direction_1 = input('You are at a crossroad, where do you want to go? Type \"left\" or \"right\": ').lower()\n",
    "\n",
    "if direction_1 == \"left\":\n",
    "    direction_2 = input('You\\'ve come to a lake. There is an island in the middle of the lake. Type \"wait\" to wait for a boat. Type \"swim\" to swim across: ').lower()\n",
    "    if direction_2 == \"wait\":\n",
    "        direction_3 = input(\"You arrived at the island unharmed. There is a house with 3 doors. One red, one yellow, and one blue. Which color do you choose? \").lower()\n",
    "        if direction_3 == \"red\":\n",
    "            print(\"It's a room full of fire. Game over.\")\n",
    "        elif direction_3 == \"yellow\":\n",
    "            print(\"You found the treasure! You won!\")\n",
    "        elif direction_3 == \"blue\":\n",
    "            print(\"You enter a room of beasts. Game over.\")\n",
    "        else:\n",
    "            print(\"You chose a door that doesn't exist. Game over.\")\n",
    "    else:\n",
    "        print(\"You are attacked by an angry trout. Game over.\")\n",
    "else:\n",
    "    print(\"You fell in a hole. Game over.\")\n"
   ]
  }
 ],
 "metadata": {
  "kernelspec": {
   "display_name": "Python 3",
   "language": "python",
   "name": "python3"
  },
  "language_info": {
   "codemirror_mode": {
    "name": "ipython",
    "version": 3
   },
   "file_extension": ".py",
   "mimetype": "text/x-python",
   "name": "python",
   "nbconvert_exporter": "python",
   "pygments_lexer": "ipython3",
   "version": "3.12.3"
  }
 },
 "nbformat": 4,
 "nbformat_minor": 2
}
