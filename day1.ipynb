{
 "cells": [
  {
   "cell_type": "code",
   "execution_count": 1,
   "metadata": {},
   "outputs": [
    {
     "name": "stdout",
     "output_type": "stream",
     "text": [
      "HelloWorld\n"
     ]
    }
   ],
   "source": [
    "print(\"HelloWorld\")"
   ]
  },
  {
   "cell_type": "code",
   "execution_count": 2,
   "metadata": {},
   "outputs": [
    {
     "name": "stdout",
     "output_type": "stream",
     "text": [
      "hello world\n",
      "helloworld\n"
     ]
    }
   ],
   "source": [
    "print(\"hello world\\nhelloworld\")"
   ]
  },
  {
   "cell_type": "code",
   "execution_count": 4,
   "metadata": {},
   "outputs": [
    {
     "name": "stdout",
     "output_type": "stream",
     "text": [
      "hellosankeerthana\n"
     ]
    }
   ],
   "source": [
    "print(\"hello\"+\"sankeerthana\")"
   ]
  },
  {
   "cell_type": "markdown",
   "metadata": {},
   "source": [
    "if/not adding space after word both gives same output\n",
    "\n"
   ]
  },
  {
   "cell_type": "code",
   "execution_count": 8,
   "metadata": {},
   "outputs": [
    {
     "name": "stdout",
     "output_type": "stream",
     "text": [
      "hellosankeerthana\n"
     ]
    }
   ],
   "source": [
    "print(\"hello\" + \"sankeerthana\")"
   ]
  },
  {
   "cell_type": "markdown",
   "metadata": {},
   "source": [
    "for space we can add space before/after completion of word but before string literal and also by adding empty string literal"
   ]
  },
  {
   "cell_type": "code",
   "execution_count": 11,
   "metadata": {},
   "outputs": [
    {
     "name": "stdout",
     "output_type": "stream",
     "text": [
      "hello  sankeerthana\n"
     ]
    }
   ],
   "source": [
    "print(\"hello \" + \" sankeerthana\" )"
   ]
  },
  {
   "cell_type": "code",
   "execution_count": 12,
   "metadata": {},
   "outputs": [
    {
     "name": "stdout",
     "output_type": "stream",
     "text": [
      "hello sankeerthana\n"
     ]
    }
   ],
   "source": [
    "print(\"hello\"+\" \"+\"sankeerthana\")"
   ]
  },
  {
   "cell_type": "markdown",
   "metadata": {},
   "source": [
    "input()-its like a prompt for the user"
   ]
  },
  {
   "cell_type": "code",
   "execution_count": 14,
   "metadata": {},
   "outputs": [
    {
     "data": {
      "text/plain": [
       "'sankeerthana'"
      ]
     },
     "execution_count": 14,
     "metadata": {},
     "output_type": "execute_result"
    }
   ],
   "source": [
    "input(\"what is your name?\")"
   ]
  },
  {
   "cell_type": "code",
   "execution_count": 11,
   "metadata": {},
   "outputs": [
    {
     "name": "stdout",
     "output_type": "stream",
     "text": [
      "hello sankeerthana\n"
     ]
    }
   ],
   "source": [
    "print(\"hello \"+ input(\"what is your name?\"))"
   ]
  },
  {
   "cell_type": "code",
   "execution_count": 13,
   "metadata": {},
   "outputs": [
    {
     "name": "stdout",
     "output_type": "stream",
     "text": [
      "sankeerthana\n"
     ]
    }
   ],
   "source": [
    "name=\"sankeerthana\" #\"\" is must to define strings\n",
    "print(name)"
   ]
  },
  {
   "cell_type": "code",
   "execution_count": 4,
   "metadata": {},
   "outputs": [
    {
     "name": "stdout",
     "output_type": "stream",
     "text": [
      "2\n"
     ]
    }
   ],
   "source": [
    "num1=int(input())\n",
    "num2=int(input())\n",
    "print(num1*num2)"
   ]
  },
  {
   "cell_type": "code",
   "execution_count": 5,
   "metadata": {},
   "outputs": [
    {
     "name": "stdout",
     "output_type": "stream",
     "text": [
      "8\n"
     ]
    }
   ],
   "source": [
    "num1=int(input())\n",
    "num2=int(input())\n",
    "print(num1*num2)"
   ]
  },
  {
   "cell_type": "code",
   "execution_count": 7,
   "metadata": {},
   "outputs": [
    {
     "name": "stdout",
     "output_type": "stream",
     "text": [
      "12\n"
     ]
    }
   ],
   "source": [
    "num_of_letters=len(\"sankeerthana\")\n",
    "print(num_of_letters)"
   ]
  },
  {
   "cell_type": "code",
   "execution_count": 14,
   "metadata": {},
   "outputs": [
    {
     "name": "stdout",
     "output_type": "stream",
     "text": [
      "sankeerthana\n",
      "12\n"
     ]
    }
   ],
   "source": [
    "name=\"sankeerthana\" \n",
    "print(name)\n",
    "print(len(name))\n",
    "#or length =len(name)\n",
    "#print(name)"
   ]
  },
  {
   "cell_type": "markdown",
   "metadata": {},
   "source": [
    "Swaping of two variables"
   ]
  },
  {
   "cell_type": "code",
   "execution_count": 17,
   "metadata": {},
   "outputs": [
    {
     "name": "stdout",
     "output_type": "stream",
     "text": [
      "6\n",
      "3\n"
     ]
    }
   ],
   "source": [
    "a=input()\n",
    "b=input()\n",
    "#create third variable for switching the values\n",
    "c=a\n",
    "a=b\n",
    "b=c\n",
    "print(a)\n",
    "print(b)"
   ]
  },
  {
   "cell_type": "markdown",
   "metadata": {},
   "source": [
    "Project_1: Bandname generator\n",
    "\n",
    "Output:\n",
    "\n",
    "#Welcome to Band Name Generator.\n",
    "#What's the name of the city you grew up in?\n",
    "#Karimnagar\n",
    "#What's your pet's name?\n",
    "#Cow\n",
    "#Your band name could be Karimnagar Cow"
   ]
  },
  {
   "cell_type": "code",
   "execution_count": 37,
   "metadata": {},
   "outputs": [
    {
     "name": "stdout",
     "output_type": "stream",
     "text": [
      "Welcome to Band name Generator.\n",
      "What is the name of the city you grew up in?\n",
      "karimnagar\n",
      "What's your pet's name?\n",
      "cow\n",
      "Your band name could be karimnagar cow\n"
     ]
    }
   ],
   "source": [
    "print(\"Welcome to Band name Generator.\")\n",
    "city=print(\"What is the name of the city you grew up in?\")\n",
    "print(input(city))\n",
    "pet=print(\"What's your pet's name?\")\n",
    "print(input(pet))\n",
    "print(\"Your band name could be \" + input(\"city\" + \" \" + \"pet\" ))"
   ]
  }
 ],
 "metadata": {
  "kernelspec": {
   "display_name": "Python 3",
   "language": "python",
   "name": "python3"
  },
  "language_info": {
   "codemirror_mode": {
    "name": "ipython",
    "version": 3
   },
   "file_extension": ".py",
   "mimetype": "text/x-python",
   "name": "python",
   "nbconvert_exporter": "python",
   "pygments_lexer": "ipython3",
   "version": "3.12.3"
  }
 },
 "nbformat": 4,
 "nbformat_minor": 2
}
