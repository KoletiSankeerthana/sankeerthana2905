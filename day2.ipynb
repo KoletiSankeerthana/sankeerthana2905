{
 "cells": [
  {
   "cell_type": "markdown",
   "metadata": {},
   "source": [
    "#integer = 234\n",
    "#float = 23.56\n",
    "#boolean  = True/False"
   ]
  },
  {
   "cell_type": "code",
   "execution_count": 8,
   "metadata": {},
   "outputs": [
    {
     "name": "stdout",
     "output_type": "stream",
     "text": [
      "e\n"
     ]
    }
   ],
   "source": [
    "a=\"hello\"\n",
    "print(a[1])"
   ]
  },
  {
   "cell_type": "code",
   "execution_count": 6,
   "metadata": {},
   "outputs": [
    {
     "data": {
      "text/plain": [
       "'e'"
      ]
     },
     "execution_count": 6,
     "metadata": {},
     "output_type": "execute_result"
    }
   ],
   "source": [
    "\"hello\"[1]"
   ]
  },
  {
   "cell_type": "markdown",
   "metadata": {},
   "source": [
    "difference while using string literal"
   ]
  },
  {
   "cell_type": "code",
   "execution_count": 9,
   "metadata": {},
   "outputs": [
    {
     "name": "stdout",
     "output_type": "stream",
     "text": [
      "123456\n"
     ]
    }
   ],
   "source": [
    "print(\"123\"+\"456\")"
   ]
  },
  {
   "cell_type": "code",
   "execution_count": 10,
   "metadata": {},
   "outputs": [
    {
     "name": "stdout",
     "output_type": "stream",
     "text": [
      "579\n"
     ]
    }
   ],
   "source": [
    "print(123+456)"
   ]
  },
  {
   "cell_type": "code",
   "execution_count": 12,
   "metadata": {},
   "outputs": [
    {
     "data": {
      "text/plain": [
       "579"
      ]
     },
     "execution_count": 12,
     "metadata": {},
     "output_type": "execute_result"
    }
   ],
   "source": [
    "123+456 # no difference by mentioning print"
   ]
  },
  {
   "cell_type": "code",
   "execution_count": 17,
   "metadata": {},
   "outputs": [
    {
     "name": "stdout",
     "output_type": "stream",
     "text": [
      "sankeerthana\n",
      "12\n",
      "<class 'str'>\n"
     ]
    }
   ],
   "source": [
    "num_char=input(\"what is your name?\")\n",
    "print(num_char)\n",
    "num_char_1=len(input(\"what is your name?\"))\n",
    "print(num_char_1)\n",
    "print(type(num_char))\n"
   ]
  },
  {
   "cell_type": "code",
   "execution_count": 21,
   "metadata": {},
   "outputs": [
    {
     "name": "stdout",
     "output_type": "stream",
     "text": [
      "345\n",
      "<class 'int'>\n"
     ]
    }
   ],
   "source": [
    "a=345\n",
    "print(a)\n",
    "print(type(a))"
   ]
  },
  {
   "cell_type": "code",
   "execution_count": 24,
   "metadata": {},
   "outputs": [
    {
     "name": "stdout",
     "output_type": "stream",
     "text": [
      "2345.89\n",
      "<class 'float'>\n"
     ]
    }
   ],
   "source": [
    "a=2345.89\n",
    "print(a)\n",
    "print(type(a))"
   ]
  },
  {
   "cell_type": "markdown",
   "metadata": {},
   "source": [
    "Difference between mentioning string literals"
   ]
  },
  {
   "cell_type": "code",
   "execution_count": 25,
   "metadata": {},
   "outputs": [
    {
     "name": "stdout",
     "output_type": "stream",
     "text": [
      "2040\n"
     ]
    }
   ],
   "source": [
    "print(str(20)+str(40))"
   ]
  },
  {
   "cell_type": "code",
   "execution_count": 26,
   "metadata": {},
   "outputs": [
    {
     "name": "stdout",
     "output_type": "stream",
     "text": [
      "str(20)str(40)\n"
     ]
    }
   ],
   "source": [
    "print(\"str(20)\"+\"str(40)\")"
   ]
  },
  {
   "cell_type": "markdown",
   "metadata": {},
   "source": [
    "PEMDAS\n",
    "P-parenthesis {[()]}    \n",
    "E-exponent **\n",
    "M-multiplication *\n",
    "D-division /\n",
    "A-addition +\n",
    "S-subtraction -\n"
   ]
  },
  {
   "cell_type": "code",
   "execution_count": 31,
   "metadata": {},
   "outputs": [
    {
     "name": "stdout",
     "output_type": "stream",
     "text": [
      "3.0\n"
     ]
    }
   ],
   "source": [
    "print(3*(3/3)+3-3)"
   ]
  },
  {
   "cell_type": "markdown",
   "metadata": {},
   "source": [
    "BMI=weight(kg)/height^2(m^2)"
   ]
  },
  {
   "cell_type": "code",
   "execution_count": 52,
   "metadata": {},
   "outputs": [
    {
     "name": "stdout",
     "output_type": "stream",
     "text": [
      "2\n"
     ]
    }
   ],
   "source": [
    "height=input()#5.4\n",
    "weight=input()#62\n",
    "weight_as_int=int(weight)\n",
    "height_as_float=float(height)\n",
    "BMI=weight_as_int/height_as_float**2\n",
    "BMI_as_int=int(BMI)\n",
    "print(BMI_as_int)\n"
   ]
  },
  {
   "cell_type": "code",
   "execution_count": 56,
   "metadata": {},
   "outputs": [
    {
     "name": "stdout",
     "output_type": "stream",
     "text": [
      "2.6666666666666665\n",
      "3\n"
     ]
    }
   ],
   "source": [
    "print(8/3)\n",
    "print(round(8/3))"
   ]
  },
  {
   "cell_type": "code",
   "execution_count": 57,
   "metadata": {},
   "outputs": [
    {
     "name": "stdout",
     "output_type": "stream",
     "text": [
      "2\n",
      "2\n"
     ]
    }
   ],
   "source": [
    "print(8//3)\n",
    "print(round(8//3))"
   ]
  },
  {
   "cell_type": "code",
   "execution_count": 58,
   "metadata": {},
   "outputs": [
    {
     "name": "stdout",
     "output_type": "stream",
     "text": [
      "your score is 10\n"
     ]
    }
   ],
   "source": [
    "score=10\n",
    "print(\"your score is \" + str(score))"
   ]
  },
  {
   "cell_type": "code",
   "execution_count": 59,
   "metadata": {},
   "outputs": [
    {
     "name": "stdout",
     "output_type": "stream",
     "text": [
      "your score is 10,your height is 5.4,you are winnig is True\n"
     ]
    }
   ],
   "source": [
    "score=10\n",
    "height=5.4\n",
    "isWinning=True\n",
    "#f-string\n",
    "print(f\"your score is {score},your height is {height},you are winnig is {isWinning}\")"
   ]
  },
  {
   "cell_type": "markdown",
   "metadata": {},
   "source": [
    "Project_2:\n",
    "\n",
    "output:\n",
    "\n",
    "Welcome to the tip calculator\n",
    "what was the total bill? $124.56\n",
    "how much tip would you like to give? 10,12,or 15? 12\n",
    "how many people to split the bill? 7\n",
    "each person sould pay: $19.93\n",
    "\n"
   ]
  },
  {
   "cell_type": "code",
   "execution_count": 3,
   "metadata": {},
   "outputs": [
    {
     "name": "stdout",
     "output_type": "stream",
     "text": [
      "Welcome to the tip calculator\n",
      "What was the total bill?\n",
      "What was the total bill in $? \n",
      "how much tip would you like to give 10,12 or 15?\n",
      "how many people to split the bill?\n"
     ]
    },
    {
     "ename": "TypeError",
     "evalue": "unsupported operand type(s) for *: 'NoneType' and 'float'",
     "output_type": "error",
     "traceback": [
      "\u001b[1;31m---------------------------------------------------------------------------\u001b[0m",
      "\u001b[1;31mTypeError\u001b[0m                                 Traceback (most recent call last)",
      "Cell \u001b[1;32mIn[3], line 9\u001b[0m\n\u001b[0;32m      7\u001b[0m people \u001b[38;5;241m=\u001b[39m \u001b[38;5;28mint\u001b[39m(\u001b[38;5;28minput\u001b[39m(\u001b[38;5;124m\"\u001b[39m\u001b[38;5;124mHow many people to split the bill? \u001b[39m\u001b[38;5;124m\"\u001b[39m))\n\u001b[0;32m      8\u001b[0m tip_as_percent \u001b[38;5;241m=\u001b[39m tip \u001b[38;5;241m/\u001b[39m \u001b[38;5;241m100\u001b[39m\n\u001b[1;32m----> 9\u001b[0m total_tip_amount \u001b[38;5;241m=\u001b[39m \u001b[43mbill\u001b[49m\u001b[43m \u001b[49m\u001b[38;5;241;43m*\u001b[39;49m\u001b[43m \u001b[49m\u001b[43mtip_as_percent\u001b[49m\n\u001b[0;32m     10\u001b[0m total_bill \u001b[38;5;241m=\u001b[39m bill \u001b[38;5;241m+\u001b[39m total_tip_amount\n\u001b[0;32m     11\u001b[0m bill_per_person \u001b[38;5;241m=\u001b[39m total_bill \u001b[38;5;241m/\u001b[39m people\n",
      "\u001b[1;31mTypeError\u001b[0m: unsupported operand type(s) for *: 'NoneType' and 'float'"
     ]
    }
   ],
   "source": [
    "print(\"Welcome to the tip calculator\")\n",
    "print(\"What was the total bill?\")\n",
    "bill = print(\"What was the total bill in $? \")\n",
    "print(\"how much tip would you like to give 10,12 or 15?\")\n",
    "tip = float(input(\"How much tip would you like to give? 10, 12, or 15? \"))\n",
    "print(\"how many people to split the bill?\")\n",
    "people = int(input(\"How many people to split the bill? \"))\n",
    "tip_as_percent = tip / 100\n",
    "total_tip_amount = bill * tip_as_percent\n",
    "total_bill = bill + total_tip_amount\n",
    "bill_per_person = total_bill / people\n",
    "print(f\"Total bill (including tip): ${total_bill:.2f}\")\n",
    "print(f\"Each person should pay: ${bill_per_person:.2f}\")\n"
   ]
  }
 ],
 "metadata": {
  "kernelspec": {
   "display_name": "Python 3",
   "language": "python",
   "name": "python3"
  },
  "language_info": {
   "codemirror_mode": {
    "name": "ipython",
    "version": 3
   },
   "file_extension": ".py",
   "mimetype": "text/x-python",
   "name": "python",
   "nbconvert_exporter": "python",
   "pygments_lexer": "ipython3",
   "version": "3.12.3"
  }
 },
 "nbformat": 4,
 "nbformat_minor": 2
}
